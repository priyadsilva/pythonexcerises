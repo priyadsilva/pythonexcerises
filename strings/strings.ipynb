{
 "cells": [
  {
   "cell_type": "code",
   "execution_count": 34,
   "id": "55ea4d60",
   "metadata": {},
   "outputs": [
    {
     "name": "stdout",
     "output_type": "stream",
     "text": [
      "The lenght of string is:  18\n",
      "..................XXXXXXXXXXXXX....................\n",
      "The lenght of string is:  18\n"
     ]
    }
   ],
   "source": [
    "#Write a Python program to calculate the length of a string.\n",
    "string1 = \"Hello from Jupyter\"\n",
    "print(\"The lenght of string is: \", len(string1))\n",
    "\n",
    "print(\"..................XXXXXXXXXXXXX....................\")\n",
    "\n",
    "def strlen(string1):\n",
    "    count = 0\n",
    "    for ch in string1:\n",
    "        count = count + 1\n",
    "    return count\n",
    "\n",
    "strlen = strlen(string1)\n",
    "\n",
    "print(\"The lenght of string is: \", strlen)"
   ]
  },
  {
   "cell_type": "code",
   "execution_count": 18,
   "id": "c2c40816",
   "metadata": {},
   "outputs": [
    {
     "name": "stdout",
     "output_type": "stream",
     "text": [
      "{'g': 2, 'o': 3, 'l': 1, 'e': 1, '.': 1, 'c': 1, 'm': 1}\n"
     ]
    }
   ],
   "source": [
    "'''Write a Python program to count the number of characters (character frequency) in a string.\n",
    "Sample String : google.com'\n",
    "Expected Result : {'g': 2, 'o': 3, 'l': 1, 'e': 1, '.': 1, 'c': 1, 'm': 1}'''\n",
    "\n",
    "string1 = \"google.com\"\n",
    "\n",
    "dict1 = {}\n",
    "\n",
    "for ch in string1:\n",
    "    if ch in dict1.keys():\n",
    "        dict1.update({ch : dict1[ch] + 1})\n",
    "    else:\n",
    "        dict1.update({ch : 1})\n",
    "print(dict1)"
   ]
  },
  {
   "cell_type": "code",
   "execution_count": 21,
   "id": "fe26e8dd",
   "metadata": {},
   "outputs": [
    {
     "name": "stdout",
     "output_type": "stream",
     "text": [
      "w3ce\n",
      "w3w3\n",
      "Empty string\n"
     ]
    }
   ],
   "source": [
    "'''Write a Python program to get a string made of the first 2 and the last 2 chars from a given a string. If the string length is less than 2, return instead of the empty string.\n",
    "Sample String : 'w3resource'\n",
    "Expected Result : 'w3ce'\n",
    "Sample String : 'w3'\n",
    "Expected Result : 'w3w3'\n",
    "Sample String : ' w'\n",
    "Expected Result : Empty String'''\n",
    "\n",
    "list1 = ['w3resource', 'w3', ' w']\n",
    "\n",
    "for item1 in list1:\n",
    "    item1 = item1.replace(\" \", \"\")\n",
    "    if len(item1) < 2:\n",
    "        print(\"Empty string\")\n",
    "    else:\n",
    "        print(item1[:2]+item1[-2:])\n"
   ]
  },
  {
   "cell_type": "code",
   "execution_count": 33,
   "id": "221f591d",
   "metadata": {},
   "outputs": [
    {
     "name": "stdout",
     "output_type": "stream",
     "text": [
      "resta$t\n",
      "..................XXXXXXXXXXXXX....................\n",
      "resta$t\n"
     ]
    }
   ],
   "source": [
    "'''Write a Python program to get a string from a given string where all occurrences of its first char have been changed to '$', except the first char itself.\n",
    "Sample String : 'restart'\n",
    "Expected Result : \"resta$t\" '''\n",
    "\n",
    "string1 = \"restart\"\n",
    "\n",
    "repl_str = string1[:1]\n",
    "\n",
    "op_str = \"\"\n",
    "\n",
    "for ch in string1:\n",
    "    if ch not in op_str:\n",
    "        op_str = f\"{op_str}{ch}\"\n",
    "    elif repl_str == ch:\n",
    "        op_str = op_str + \"$\"\n",
    "    else:\n",
    "        op_str = f\"{op_str}{ch}\"\n",
    "\n",
    "print(op_str)\n",
    "\n",
    "\n",
    "print(\"..................XXXXXXXXXXXXX....................\")\n",
    "\n",
    "other_str = string1[1:]\n",
    "\n",
    "if repl_str in other_str:\n",
    "    other_str = other_str.replace(repl_str, \"$\")\n",
    "\n",
    "print(repl_str + other_str)\n",
    "    "
   ]
  },
  {
   "cell_type": "code",
   "execution_count": 37,
   "id": "6d170898",
   "metadata": {},
   "outputs": [
    {
     "name": "stdout",
     "output_type": "stream",
     "text": [
      "xyc abz\n"
     ]
    }
   ],
   "source": [
    "'''Write a Python program to get a single string from two given strings, separated by a space and swap the first two characters of each string.\n",
    "Sample String : \"abc\", \"xyz\"\n",
    "Expected Result : \"xyc abz\"'''\n",
    "\n",
    "string1 = \"abc\"\n",
    "string2 = \"xyz\"\n",
    "\n",
    "string12 = string2[:2] + string1[-1:]\n",
    "string21 = string1[:2] + string2[-1:]\n",
    "\n",
    "print(string12+\" \"+string21)"
   ]
  },
  {
   "cell_type": "code",
   "execution_count": 38,
   "id": "09d1f1cc",
   "metadata": {},
   "outputs": [
    {
     "name": "stdout",
     "output_type": "stream",
     "text": [
      "a\n",
      "abcing\n",
      "stringly\n"
     ]
    }
   ],
   "source": [
    "'''Write a Python program to add 'ing' at the end of a given string (length should be at least 3). If the given string already ends with 'ing' then add 'ly' instead. If the string length of the given string is less than 3, leave it unchanged.\n",
    "Sample String : \"abc\"\n",
    "Expected Result : \"abcing\"\n",
    "Sample String : \"string\"\n",
    "Expected Result : \"stringly\"'''\n",
    "\n",
    "str_list = [\"a\", \"abc\", \"string\"]\n",
    "\n",
    "for item in str_list:\n",
    "    if len(item) < 3:\n",
    "        print(item)\n",
    "    else:\n",
    "        if item[-3:] == \"ing\":\n",
    "            print(item + \"ly\")\n",
    "        else:\n",
    "            print(item + \"ing\")"
   ]
  },
  {
   "cell_type": "code",
   "execution_count": 51,
   "id": "50969094",
   "metadata": {},
   "outputs": [
    {
     "name": "stdout",
     "output_type": "stream",
     "text": [
      "14 23 -1 14\n",
      "The lyrics is good!\n",
      "The lyrics is poor!\n"
     ]
    }
   ],
   "source": [
    "'''Write a Python program to find the first appearance of the substring 'not' and 'poor' from a given string, if 'not' follows the 'poor', replace the whole 'not'...'poor' substring with 'good'. Return the resulting string.\n",
    "Sample String : \"The lyrics is not that poor!\"\n",
    "\"The lyrics is poor!\"\n",
    "Expected Result : \"The lyrics is good!\"\n",
    "\"The lyrics is poor!\"'''\n",
    "\n",
    "string1 = \"The lyrics is not that poor!\"\n",
    "string2 = \"The lyrics is poor!\"\n",
    "\n",
    "str1not = string1.find(\"not\")\n",
    "str1poor = string1.find(\"poor\")\n",
    "\n",
    "str2not = string2.find(\"not\")\n",
    "str2poor = string2.find(\"poor\")\n",
    "\n",
    "if str1not < str1poor and str1not > 0 and str1poor > 0:\n",
    "    string1 = string1[0:str1not] + \"good\" + string1[str1poor+4:]\n",
    "    \n",
    "\n",
    "if str2not < str2poor and str2not > 0 and str2poor > 0:\n",
    "    string2 = string2.replace(string2[str2not:(str2poor+4)], \"good\")\n",
    "    \n",
    "print(string1)\n",
    "print(string2)"
   ]
  },
  {
   "cell_type": "code",
   "execution_count": 52,
   "id": "d55917a6",
   "metadata": {},
   "outputs": [
    {
     "name": "stdout",
     "output_type": "stream",
     "text": [
      "Longest word:  Exercises\n",
      "Length of the longest word:  9\n"
     ]
    }
   ],
   "source": [
    "'''Write a Python function that takes a list of words and return the longest word and the length of the longest one.\n",
    "Sample Output:\n",
    "Longest word: Exercises\n",
    "Length of the longest word: 9'''\n",
    "\n",
    "list_words = [\"word\", \"Exercises\", \"Exercise\", \"function\"]\n",
    "\n",
    "def lon_word(list_words):\n",
    "    long_word = \"\"\n",
    "    for wrd in list_words:\n",
    "        if len(wrd) > len(long_word):\n",
    "            long_word = wrd\n",
    "    return long_word\n",
    "\n",
    "print(\"Longest word: \",lon_word(list_words))\n",
    "print(\"Length of the longest word: \", len(lon_word(list_words)))"
   ]
  },
  {
   "cell_type": "code",
   "execution_count": 62,
   "id": "b64d8d3b",
   "metadata": {},
   "outputs": [
    {
     "name": "stdout",
     "output_type": "stream",
     "text": [
      "ython\n",
      "Pytho\n",
      "Pyton\n"
     ]
    }
   ],
   "source": [
    "'''Write a Python program to remove the nth index character from a nonempty string.'''\n",
    "\n",
    "def remove_char(string1, index):\n",
    "    if len(string1) < 0:\n",
    "        print(\"string empty\")\n",
    "    else:\n",
    "        return string1.replace(string1[index], '')\n",
    "\n",
    "def remove_char2(string1, index):\n",
    "    if len(string1) < 0:\n",
    "        print(\"string empty\")\n",
    "    else:\n",
    "        str1 = string1[:index]\n",
    "        str2 = string1[index+1:]\n",
    "        return str1+str2\n",
    "\n",
    "        \n",
    "print(remove_char(\"Python\", 0))\n",
    "print(remove_char(\"Python\", 5))\n",
    "\n",
    "print(\"..................XXXXXXXXXXXXX....................\")\n",
    "\n",
    "print(remove_char2(\"Python\", 3))"
   ]
  },
  {
   "cell_type": "code",
   "execution_count": 68,
   "id": "beac87c5",
   "metadata": {},
   "outputs": [
    {
     "name": "stdout",
     "output_type": "stream",
     "text": [
      "nythoP\n"
     ]
    }
   ],
   "source": [
    "'''Write a Python program to change a given string to a new string where the first and last chars have been exchanged.'''\n",
    "\n",
    "string1 = \"Python\"\n",
    "\n",
    "print(string1[-1:] + string1[1:-1] + string1[:1])"
   ]
  }
 ],
 "metadata": {
  "kernelspec": {
   "display_name": "Python 3 (ipykernel)",
   "language": "python",
   "name": "python3"
  },
  "language_info": {
   "codemirror_mode": {
    "name": "ipython",
    "version": 3
   },
   "file_extension": ".py",
   "mimetype": "text/x-python",
   "name": "python",
   "nbconvert_exporter": "python",
   "pygments_lexer": "ipython3",
   "version": "3.9.12"
  }
 },
 "nbformat": 4,
 "nbformat_minor": 5
}
